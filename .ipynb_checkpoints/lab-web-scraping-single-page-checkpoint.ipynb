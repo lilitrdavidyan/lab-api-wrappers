{
 "cells": [
  {
   "cell_type": "markdown",
   "id": "ea691e5f",
   "metadata": {},
   "source": [
    "## Part 1"
   ]
  },
  {
   "cell_type": "code",
   "execution_count": 1,
   "id": "c74b46ed",
   "metadata": {},
   "outputs": [],
   "source": [
    "import requests\n",
    "from bs4 import BeautifulSoup\n",
    "import pandas as pd\n"
   ]
  },
  {
   "cell_type": "code",
   "execution_count": 2,
   "id": "1ece5f5f",
   "metadata": {},
   "outputs": [
    {
     "data": {
      "text/plain": [
       "<Response [200]>"
      ]
     },
     "execution_count": 2,
     "metadata": {},
     "output_type": "execute_result"
    }
   ],
   "source": [
    "response = requests.get('http://www.popvortex.com/music/charts/top-100-songs.php')\n",
    "response"
   ]
  },
  {
   "cell_type": "code",
   "execution_count": 3,
   "id": "ae205ecd",
   "metadata": {},
   "outputs": [],
   "source": [
    "soup = BeautifulSoup(response.content, 'html.parser')\n",
    "# print(soup.prettify())"
   ]
  },
  {
   "cell_type": "code",
   "execution_count": 4,
   "id": "a63fd320",
   "metadata": {},
   "outputs": [],
   "source": [
    "songs_tags = soup.select('.title')\n",
    "artists_tags = soup.select('.artist')"
   ]
  },
  {
   "cell_type": "code",
   "execution_count": 5,
   "id": "33a68be0",
   "metadata": {},
   "outputs": [],
   "source": [
    "songs = [tag.text for tag in songs_tags]\n",
    "artists = [tag.text for tag in artists_tags]"
   ]
  },
  {
   "cell_type": "code",
   "execution_count": 6,
   "id": "e0daba4b",
   "metadata": {},
   "outputs": [],
   "source": [
    "df = pd.DataFrame({'Song': songs, 'Artist': artists})"
   ]
  },
  {
   "cell_type": "code",
   "execution_count": 7,
   "id": "60e38d4d",
   "metadata": {},
   "outputs": [
    {
     "data": {
      "text/html": [
       "<div>\n",
       "<style scoped>\n",
       "    .dataframe tbody tr th:only-of-type {\n",
       "        vertical-align: middle;\n",
       "    }\n",
       "\n",
       "    .dataframe tbody tr th {\n",
       "        vertical-align: top;\n",
       "    }\n",
       "\n",
       "    .dataframe thead th {\n",
       "        text-align: right;\n",
       "    }\n",
       "</style>\n",
       "<table border=\"1\" class=\"dataframe\">\n",
       "  <thead>\n",
       "    <tr style=\"text-align: right;\">\n",
       "      <th></th>\n",
       "      <th>Song</th>\n",
       "      <th>Artist</th>\n",
       "    </tr>\n",
       "  </thead>\n",
       "  <tbody>\n",
       "    <tr>\n",
       "      <th>0</th>\n",
       "      <td>Rich Men North of Richmond</td>\n",
       "      <td>Oliver Anthony Music</td>\n",
       "    </tr>\n",
       "    <tr>\n",
       "      <th>1</th>\n",
       "      <td>Margaritaville</td>\n",
       "      <td>Jimmy Buffett</td>\n",
       "    </tr>\n",
       "    <tr>\n",
       "      <th>2</th>\n",
       "      <td>I Remember Everything (feat. Kacey Musgraves)</td>\n",
       "      <td>Zach Bryan</td>\n",
       "    </tr>\n",
       "    <tr>\n",
       "      <th>3</th>\n",
       "      <td>Come Monday</td>\n",
       "      <td>Jimmy Buffett</td>\n",
       "    </tr>\n",
       "    <tr>\n",
       "      <th>4</th>\n",
       "      <td>Paint The Town Red</td>\n",
       "      <td>Doja Cat</td>\n",
       "    </tr>\n",
       "    <tr>\n",
       "      <th>...</th>\n",
       "      <td>...</td>\n",
       "      <td>...</td>\n",
       "    </tr>\n",
       "    <tr>\n",
       "      <th>90</th>\n",
       "      <td>Holy Forever</td>\n",
       "      <td>Chris Tomlin</td>\n",
       "    </tr>\n",
       "    <tr>\n",
       "      <th>91</th>\n",
       "      <td>Thank God</td>\n",
       "      <td>Kane Brown &amp; Katelyn Brown</td>\n",
       "    </tr>\n",
       "    <tr>\n",
       "      <th>92</th>\n",
       "      <td>Walkin' On the Sun</td>\n",
       "      <td>Smash Mouth</td>\n",
       "    </tr>\n",
       "    <tr>\n",
       "      <th>93</th>\n",
       "      <td>Unstoppable</td>\n",
       "      <td>Sia</td>\n",
       "    </tr>\n",
       "    <tr>\n",
       "      <th>94</th>\n",
       "      <td>Everywhere</td>\n",
       "      <td>Fleetwood Mac</td>\n",
       "    </tr>\n",
       "  </tbody>\n",
       "</table>\n",
       "<p>95 rows × 2 columns</p>\n",
       "</div>"
      ],
      "text/plain": [
       "                                             Song                      Artist\n",
       "0                      Rich Men North of Richmond        Oliver Anthony Music\n",
       "1                                  Margaritaville               Jimmy Buffett\n",
       "2   I Remember Everything (feat. Kacey Musgraves)                  Zach Bryan\n",
       "3                                     Come Monday               Jimmy Buffett\n",
       "4                              Paint The Town Red                    Doja Cat\n",
       "..                                            ...                         ...\n",
       "90                                   Holy Forever                Chris Tomlin\n",
       "91                                      Thank God  Kane Brown & Katelyn Brown\n",
       "92                             Walkin' On the Sun                 Smash Mouth\n",
       "93                                    Unstoppable                         Sia\n",
       "94                                     Everywhere               Fleetwood Mac\n",
       "\n",
       "[95 rows x 2 columns]"
      ]
     },
     "execution_count": 7,
     "metadata": {},
     "output_type": "execute_result"
    }
   ],
   "source": [
    "df"
   ]
  },
  {
   "cell_type": "markdown",
   "id": "d2b535e7",
   "metadata": {},
   "source": [
    "## Part 2"
   ]
  },
  {
   "cell_type": "markdown",
   "id": "63f03e0e",
   "metadata": {},
   "source": [
    "https://www.billboard.com/charts/billboard-200/"
   ]
  },
  {
   "cell_type": "code",
   "execution_count": 8,
   "id": "980eed0a",
   "metadata": {},
   "outputs": [
    {
     "data": {
      "text/plain": [
       "<Response [200]>"
      ]
     },
     "execution_count": 8,
     "metadata": {},
     "output_type": "execute_result"
    }
   ],
   "source": [
    "responsebb = requests.get('https://www.billboard.com/charts/billboard-200/')\n",
    "responsebb"
   ]
  },
  {
   "cell_type": "code",
   "execution_count": 9,
   "id": "efb4971e",
   "metadata": {},
   "outputs": [],
   "source": [
    "soupbb = BeautifulSoup(responsebb.content, 'html.parser')\n",
    "# soupbb.prettify()"
   ]
  },
  {
   "cell_type": "code",
   "execution_count": 10,
   "id": "4f0e3626",
   "metadata": {},
   "outputs": [],
   "source": [
    "songsbb = []\n",
    "artistsbb = []\n",
    "songsbb_tags = soupbb.select('ul > li > ul > li> h3 #title-of-a-story.c-title')\n",
    "for tag in songs_tags:\n",
    "    tag_text = tag.text.strip()\n",
    "    if tag_text not in ['Imprint/Promotion Label:', \n",
    "                        'Follow Us',\n",
    "                        'Have a Tip?',\n",
    "                        'The Daily',\n",
    "                        'Additional Awards',\n",
    "                        'Gains in Weekly Performance'\n",
    "                       ] :\n",
    "        songsbb.append(tag_text)\n",
    "        span = tag.find_next()\n",
    "        artistsbb.append(span.text.strip())\n",
    "songsbb = songsbb[1:201]\n",
    "artistsbb = artistsbb[1:201]"
   ]
  },
  {
   "cell_type": "code",
   "execution_count": 11,
   "id": "569ea831",
   "metadata": {},
   "outputs": [
    {
     "data": {
      "text/html": [
       "<div>\n",
       "<style scoped>\n",
       "    .dataframe tbody tr th:only-of-type {\n",
       "        vertical-align: middle;\n",
       "    }\n",
       "\n",
       "    .dataframe tbody tr th {\n",
       "        vertical-align: top;\n",
       "    }\n",
       "\n",
       "    .dataframe thead th {\n",
       "        text-align: right;\n",
       "    }\n",
       "</style>\n",
       "<table border=\"1\" class=\"dataframe\">\n",
       "  <thead>\n",
       "    <tr style=\"text-align: right;\">\n",
       "      <th></th>\n",
       "      <th>Song</th>\n",
       "      <th>Artist</th>\n",
       "    </tr>\n",
       "  </thead>\n",
       "  <tbody>\n",
       "    <tr>\n",
       "      <th>0</th>\n",
       "      <td>Margaritaville</td>\n",
       "      <td>Jimmy Buffett</td>\n",
       "    </tr>\n",
       "    <tr>\n",
       "      <th>1</th>\n",
       "      <td>I Remember Everything (feat. Kacey Musgraves)</td>\n",
       "      <td>Zach Bryan</td>\n",
       "    </tr>\n",
       "    <tr>\n",
       "      <th>2</th>\n",
       "      <td>Come Monday</td>\n",
       "      <td>Jimmy Buffett</td>\n",
       "    </tr>\n",
       "    <tr>\n",
       "      <th>3</th>\n",
       "      <td>Paint The Town Red</td>\n",
       "      <td>Doja Cat</td>\n",
       "    </tr>\n",
       "    <tr>\n",
       "      <th>4</th>\n",
       "      <td>Angry</td>\n",
       "      <td>The Rolling Stones</td>\n",
       "    </tr>\n",
       "    <tr>\n",
       "      <th>...</th>\n",
       "      <td>...</td>\n",
       "      <td>...</td>\n",
       "    </tr>\n",
       "    <tr>\n",
       "      <th>89</th>\n",
       "      <td>Holy Forever</td>\n",
       "      <td>Chris Tomlin</td>\n",
       "    </tr>\n",
       "    <tr>\n",
       "      <th>90</th>\n",
       "      <td>Thank God</td>\n",
       "      <td>Kane Brown &amp; Katelyn Brown</td>\n",
       "    </tr>\n",
       "    <tr>\n",
       "      <th>91</th>\n",
       "      <td>Walkin' On the Sun</td>\n",
       "      <td>Smash Mouth</td>\n",
       "    </tr>\n",
       "    <tr>\n",
       "      <th>92</th>\n",
       "      <td>Unstoppable</td>\n",
       "      <td>Sia</td>\n",
       "    </tr>\n",
       "    <tr>\n",
       "      <th>93</th>\n",
       "      <td>Everywhere</td>\n",
       "      <td>Fleetwood Mac</td>\n",
       "    </tr>\n",
       "  </tbody>\n",
       "</table>\n",
       "<p>94 rows × 2 columns</p>\n",
       "</div>"
      ],
      "text/plain": [
       "                                             Song                      Artist\n",
       "0                                  Margaritaville               Jimmy Buffett\n",
       "1   I Remember Everything (feat. Kacey Musgraves)                  Zach Bryan\n",
       "2                                     Come Monday               Jimmy Buffett\n",
       "3                              Paint The Town Red                    Doja Cat\n",
       "4                                           Angry          The Rolling Stones\n",
       "..                                            ...                         ...\n",
       "89                                   Holy Forever                Chris Tomlin\n",
       "90                                      Thank God  Kane Brown & Katelyn Brown\n",
       "91                             Walkin' On the Sun                 Smash Mouth\n",
       "92                                    Unstoppable                         Sia\n",
       "93                                     Everywhere               Fleetwood Mac\n",
       "\n",
       "[94 rows x 2 columns]"
      ]
     },
     "execution_count": 11,
     "metadata": {},
     "output_type": "execute_result"
    }
   ],
   "source": [
    "dfbb = pd.DataFrame({'Song': songsbb, 'Artist': artistsbb})\n",
    "dfbb"
   ]
  },
  {
   "cell_type": "code",
   "execution_count": 12,
   "id": "82a85fa9",
   "metadata": {},
   "outputs": [
    {
     "data": {
      "text/html": [
       "<div>\n",
       "<style scoped>\n",
       "    .dataframe tbody tr th:only-of-type {\n",
       "        vertical-align: middle;\n",
       "    }\n",
       "\n",
       "    .dataframe tbody tr th {\n",
       "        vertical-align: top;\n",
       "    }\n",
       "\n",
       "    .dataframe thead th {\n",
       "        text-align: right;\n",
       "    }\n",
       "</style>\n",
       "<table border=\"1\" class=\"dataframe\">\n",
       "  <thead>\n",
       "    <tr style=\"text-align: right;\">\n",
       "      <th></th>\n",
       "      <th>Song</th>\n",
       "      <th>Artist</th>\n",
       "    </tr>\n",
       "  </thead>\n",
       "  <tbody>\n",
       "    <tr>\n",
       "      <th>0</th>\n",
       "      <td>Rich Men North of Richmond</td>\n",
       "      <td>Oliver Anthony Music</td>\n",
       "    </tr>\n",
       "    <tr>\n",
       "      <th>1</th>\n",
       "      <td>Margaritaville</td>\n",
       "      <td>Jimmy Buffett</td>\n",
       "    </tr>\n",
       "    <tr>\n",
       "      <th>2</th>\n",
       "      <td>I Remember Everything (feat. Kacey Musgraves)</td>\n",
       "      <td>Zach Bryan</td>\n",
       "    </tr>\n",
       "    <tr>\n",
       "      <th>3</th>\n",
       "      <td>Come Monday</td>\n",
       "      <td>Jimmy Buffett</td>\n",
       "    </tr>\n",
       "    <tr>\n",
       "      <th>4</th>\n",
       "      <td>Paint The Town Red</td>\n",
       "      <td>Doja Cat</td>\n",
       "    </tr>\n",
       "    <tr>\n",
       "      <th>...</th>\n",
       "      <td>...</td>\n",
       "      <td>...</td>\n",
       "    </tr>\n",
       "    <tr>\n",
       "      <th>89</th>\n",
       "      <td>Holy Forever</td>\n",
       "      <td>Chris Tomlin</td>\n",
       "    </tr>\n",
       "    <tr>\n",
       "      <th>90</th>\n",
       "      <td>Thank God</td>\n",
       "      <td>Kane Brown &amp; Katelyn Brown</td>\n",
       "    </tr>\n",
       "    <tr>\n",
       "      <th>91</th>\n",
       "      <td>Walkin' On the Sun</td>\n",
       "      <td>Smash Mouth</td>\n",
       "    </tr>\n",
       "    <tr>\n",
       "      <th>92</th>\n",
       "      <td>Unstoppable</td>\n",
       "      <td>Sia</td>\n",
       "    </tr>\n",
       "    <tr>\n",
       "      <th>93</th>\n",
       "      <td>Everywhere</td>\n",
       "      <td>Fleetwood Mac</td>\n",
       "    </tr>\n",
       "  </tbody>\n",
       "</table>\n",
       "<p>94 rows × 2 columns</p>\n",
       "</div>"
      ],
      "text/plain": [
       "                                             Song                      Artist\n",
       "0                      Rich Men North of Richmond        Oliver Anthony Music\n",
       "1                                  Margaritaville               Jimmy Buffett\n",
       "2   I Remember Everything (feat. Kacey Musgraves)                  Zach Bryan\n",
       "3                                     Come Monday               Jimmy Buffett\n",
       "4                              Paint The Town Red                    Doja Cat\n",
       "..                                            ...                         ...\n",
       "89                                   Holy Forever                Chris Tomlin\n",
       "90                                      Thank God  Kane Brown & Katelyn Brown\n",
       "91                             Walkin' On the Sun                 Smash Mouth\n",
       "92                                    Unstoppable                         Sia\n",
       "93                                     Everywhere               Fleetwood Mac\n",
       "\n",
       "[94 rows x 2 columns]"
      ]
     },
     "execution_count": 12,
     "metadata": {},
     "output_type": "execute_result"
    }
   ],
   "source": [
    "merged = pd.concat([df, dfbb]).drop_duplicates().reset_index(drop=True)\n",
    "\n",
    "merged"
   ]
  },
  {
   "cell_type": "code",
   "execution_count": null,
   "id": "9f6e9785",
   "metadata": {},
   "outputs": [],
   "source": []
  }
 ],
 "metadata": {
  "kernelspec": {
   "display_name": "Python 3 (ipykernel)",
   "language": "python",
   "name": "python3"
  },
  "language_info": {
   "codemirror_mode": {
    "name": "ipython",
    "version": 3
   },
   "file_extension": ".py",
   "mimetype": "text/x-python",
   "name": "python",
   "nbconvert_exporter": "python",
   "pygments_lexer": "ipython3",
   "version": "3.10.9"
  }
 },
 "nbformat": 4,
 "nbformat_minor": 5
}
