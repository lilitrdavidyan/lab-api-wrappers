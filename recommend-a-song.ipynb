{
 "cells": [
  {
   "cell_type": "code",
   "execution_count": 30,
   "id": "8dbb6b73",
   "metadata": {},
   "outputs": [],
   "source": [
    "import matplotlib.pyplot as plt\n",
    "import pandas as pd\n",
    "import numpy as np\n",
    "from sklearn.preprocessing import StandardScaler\n",
    "from sklearn.cluster import KMeans\n",
    "from tqdm import tqdm\n",
    "import seaborn as sns\n",
    "from random import randint\n",
    "import spotipy\n",
    "from spotipy.oauth2 import SpotifyClientCredentials\n"
   ]
  },
  {
   "cell_type": "code",
   "execution_count": 45,
   "id": "194169c5",
   "metadata": {},
   "outputs": [],
   "source": [
    "secrets_file = open(\"secrets.txt\",\"r\")\n",
    "string = secrets_file.read()\n",
    "secrets_dict={}\n",
    "for line in string.split('\\n'):\n",
    "    if len(line) > 0:\n",
    "        secrets_dict[line.split(':')[0]]=line.split(':')[1].strip()\n"
   ]
  },
  {
   "cell_type": "code",
   "execution_count": 55,
   "id": "07d5762e",
   "metadata": {},
   "outputs": [
    {
     "data": {
      
     },
     "execution_count": 55,
     "metadata": {},
     "output_type": "execute_result"
    }
   ],
   "source": [
    "secrets_dict"
   ]
  },
  {
   "cell_type": "code",
   "execution_count": 53,
   "id": "2907ad75",
   "metadata": {},
   "outputs": [],
   "source": [
    "sp = spotipy.Spotify(auth_manager=SpotifyClientCredentials(client_id=secrets_dict['clientid'],\n",
    "                                                           client_secret=secrets_dict['clientsecret']))"
   ]
  },
  {
   "cell_type": "code",
   "execution_count": 84,
   "id": "f0f76403",
   "metadata": {},
   "outputs": [],
   "source": [
    "# sp.categories(limit = 50)"
   ]
  },
  {
   "cell_type": "code",
   "execution_count": 36,
   "id": "8fb9331b",
   "metadata": {},
   "outputs": [],
   "source": [
    "model = load('kmeans10.joblib')\n",
    "scaler = load('scaler.pkl')"
   ]
  },
  {
   "cell_type": "code",
   "execution_count": 73,
   "id": "424e3937",
   "metadata": {},
   "outputs": [],
   "source": [
    "feature_names = ['danceability', 'energy', 'key', 'loudness', 'mode', 'speechiness', \n",
    "            'acousticness', 'instrumentalness', 'liveness', 'valence', 'tempo',\n",
    "            'duration_ms'\n",
    "           ]"
   ]
  },
  {
   "cell_type": "code",
   "execution_count": 74,
   "id": "554a627c",
   "metadata": {},
   "outputs": [],
   "source": [
    "clustered_tracks = pd.read_csv('clustered_tracks.csv')\n",
    "# clustered_tracks"
   ]
  },
  {
   "cell_type": "code",
   "execution_count": 75,
   "id": "207ca217",
   "metadata": {},
   "outputs": [
    {
     "data": {
      "text/html": [
       "<div>\n",
       "<style scoped>\n",
       "    .dataframe tbody tr th:only-of-type {\n",
       "        vertical-align: middle;\n",
       "    }\n",
       "\n",
       "    .dataframe tbody tr th {\n",
       "        vertical-align: top;\n",
       "    }\n",
       "\n",
       "    .dataframe thead th {\n",
       "        text-align: right;\n",
       "    }\n",
       "</style>\n",
       "<table border=\"1\" class=\"dataframe\">\n",
       "  <thead>\n",
       "    <tr style=\"text-align: right;\">\n",
       "      <th></th>\n",
       "      <th>Song</th>\n",
       "      <th>Artist</th>\n",
       "    </tr>\n",
       "  </thead>\n",
       "  <tbody>\n",
       "    <tr>\n",
       "      <th>0</th>\n",
       "      <td>Rich Men North of Richmond</td>\n",
       "      <td>Oliver Anthony Music</td>\n",
       "    </tr>\n",
       "    <tr>\n",
       "      <th>1</th>\n",
       "      <td>Margaritaville</td>\n",
       "      <td>Jimmy Buffett</td>\n",
       "    </tr>\n",
       "    <tr>\n",
       "      <th>2</th>\n",
       "      <td>I Remember Everything (feat. Kacey Musgraves)</td>\n",
       "      <td>Zach Bryan</td>\n",
       "    </tr>\n",
       "    <tr>\n",
       "      <th>3</th>\n",
       "      <td>Come Monday</td>\n",
       "      <td>Jimmy Buffett</td>\n",
       "    </tr>\n",
       "    <tr>\n",
       "      <th>4</th>\n",
       "      <td>Paint The Town Red</td>\n",
       "      <td>Doja Cat</td>\n",
       "    </tr>\n",
       "    <tr>\n",
       "      <th>...</th>\n",
       "      <td>...</td>\n",
       "      <td>...</td>\n",
       "    </tr>\n",
       "    <tr>\n",
       "      <th>89</th>\n",
       "      <td>Holy Forever</td>\n",
       "      <td>Chris Tomlin</td>\n",
       "    </tr>\n",
       "    <tr>\n",
       "      <th>90</th>\n",
       "      <td>Thank God</td>\n",
       "      <td>Kane Brown &amp; Katelyn Brown</td>\n",
       "    </tr>\n",
       "    <tr>\n",
       "      <th>91</th>\n",
       "      <td>Walkin' On the Sun</td>\n",
       "      <td>Smash Mouth</td>\n",
       "    </tr>\n",
       "    <tr>\n",
       "      <th>92</th>\n",
       "      <td>Unstoppable</td>\n",
       "      <td>Sia</td>\n",
       "    </tr>\n",
       "    <tr>\n",
       "      <th>93</th>\n",
       "      <td>Everywhere</td>\n",
       "      <td>Fleetwood Mac</td>\n",
       "    </tr>\n",
       "  </tbody>\n",
       "</table>\n",
       "<p>94 rows × 2 columns</p>\n",
       "</div>"
      ],
      "text/plain": [
       "                                             Song                      Artist\n",
       "0                      Rich Men North of Richmond        Oliver Anthony Music\n",
       "1                                  Margaritaville               Jimmy Buffett\n",
       "2   I Remember Everything (feat. Kacey Musgraves)                  Zach Bryan\n",
       "3                                     Come Monday               Jimmy Buffett\n",
       "4                              Paint The Town Red                    Doja Cat\n",
       "..                                            ...                         ...\n",
       "89                                   Holy Forever                Chris Tomlin\n",
       "90                                      Thank God  Kane Brown & Katelyn Brown\n",
       "91                             Walkin' On the Sun                 Smash Mouth\n",
       "92                                    Unstoppable                         Sia\n",
       "93                                     Everywhere               Fleetwood Mac\n",
       "\n",
       "[94 rows x 2 columns]"
      ]
     },
     "execution_count": 75,
     "metadata": {},
     "output_type": "execute_result"
    }
   ],
   "source": [
    "top_songs = pd.read_csv('top_tracks.csv')\n",
    "top_songs"
   ]
  },
  {
   "cell_type": "code",
   "execution_count": 76,
   "id": "680a83d0",
   "metadata": {},
   "outputs": [
    {
     "name": "stdout",
     "output_type": "stream",
     "text": [
      "Enter song title: Margaritaville\n"
     ]
    }
   ],
   "source": [
    "song_title = input(\"Enter song title: \")"
   ]
  },
  {
   "cell_type": "code",
   "execution_count": 27,
   "id": "e8906730",
   "metadata": {},
   "outputs": [
    {
     "name": "stdout",
     "output_type": "stream",
     "text": [
      "Enter song artist: Jimmy Buffett\n"
     ]
    }
   ],
   "source": [
    "song_artist = input(\"Enter song artist: \")"
   ]
  },
  {
   "cell_type": "code",
   "execution_count": 51,
   "id": "ea10c95d",
   "metadata": {},
   "outputs": [],
   "source": [
    "def recommend_song(title, artist):\n",
    "    if title and artist:\n",
    "        song_in_top_songs = top_songs[(top_songs['Song'] == title) & (top_songs['Artist'] == artist)]\n",
    "    elif title:\n",
    "        song_in_top_songs = top_songs[top_songs['Song'] == title]\n",
    "    elif artist:\n",
    "        song_in_top_songs = top_songs[top_songs['Artist'] == artist]\n",
    "    else:\n",
    "        song_in_top_songs = top_songs.iloc[0:0] \n",
    "\n",
    "    \n",
    "    # Recommend from Top Songs\n",
    "    if not song_in_top_songs.empty:\n",
    "        recommendations = top_songs.drop(song_in_top_songs.index).sample(10)  # Recommending 3 random songs from top songs\n",
    "        return recommendations\n",
    "\n",
    "    # If song is not in top songs, return a placeholder for now (will handle in next steps)\n",
    "    print(\"Song not in top songs. Fetching recommendations from clusters...\")\n",
    "    return retrieve_scale_predict(title, artist)\n"
   ]
  },
  {
   "cell_type": "code",
   "execution_count": 40,
   "id": "88f067db",
   "metadata": {},
   "outputs": [
    {
     "data": {
      "text/html": [
       "<div>\n",
       "<style scoped>\n",
       "    .dataframe tbody tr th:only-of-type {\n",
       "        vertical-align: middle;\n",
       "    }\n",
       "\n",
       "    .dataframe tbody tr th {\n",
       "        vertical-align: top;\n",
       "    }\n",
       "\n",
       "    .dataframe thead th {\n",
       "        text-align: right;\n",
       "    }\n",
       "</style>\n",
       "<table border=\"1\" class=\"dataframe\">\n",
       "  <thead>\n",
       "    <tr style=\"text-align: right;\">\n",
       "      <th></th>\n",
       "      <th>Song</th>\n",
       "      <th>Artist</th>\n",
       "    </tr>\n",
       "  </thead>\n",
       "  <tbody>\n",
       "    <tr>\n",
       "      <th>83</th>\n",
       "      <td>Thought You Should Know</td>\n",
       "      <td>Morgan Wallen</td>\n",
       "    </tr>\n",
       "    <tr>\n",
       "      <th>69</th>\n",
       "      <td>I Love My Body</td>\n",
       "      <td>HWASA</td>\n",
       "    </tr>\n",
       "    <tr>\n",
       "      <th>33</th>\n",
       "      <td>Dreams</td>\n",
       "      <td>Fleetwood Mac</td>\n",
       "    </tr>\n",
       "    <tr>\n",
       "      <th>26</th>\n",
       "      <td>All Star</td>\n",
       "      <td>Smash Mouth</td>\n",
       "    </tr>\n",
       "    <tr>\n",
       "      <th>54</th>\n",
       "      <td>Photograph</td>\n",
       "      <td>Nickelback</td>\n",
       "    </tr>\n",
       "    <tr>\n",
       "      <th>90</th>\n",
       "      <td>Thank God</td>\n",
       "      <td>Kane Brown &amp; Katelyn Brown</td>\n",
       "    </tr>\n",
       "    <tr>\n",
       "      <th>13</th>\n",
       "      <td>White Horse</td>\n",
       "      <td>Chris Stapleton</td>\n",
       "    </tr>\n",
       "    <tr>\n",
       "      <th>50</th>\n",
       "      <td>Driving Back There in My Mind</td>\n",
       "      <td>Miranda Lambert</td>\n",
       "    </tr>\n",
       "    <tr>\n",
       "      <th>59</th>\n",
       "      <td>Gypsy</td>\n",
       "      <td>Fleetwood Mac</td>\n",
       "    </tr>\n",
       "    <tr>\n",
       "      <th>9</th>\n",
       "      <td>Dream Weaver</td>\n",
       "      <td>Gary Wright</td>\n",
       "    </tr>\n",
       "  </tbody>\n",
       "</table>\n",
       "</div>"
      ],
      "text/plain": [
       "                             Song                      Artist\n",
       "83        Thought You Should Know               Morgan Wallen\n",
       "69                 I Love My Body                       HWASA\n",
       "33                         Dreams               Fleetwood Mac\n",
       "26                       All Star                 Smash Mouth\n",
       "54                     Photograph                  Nickelback\n",
       "90                      Thank God  Kane Brown & Katelyn Brown\n",
       "13                    White Horse             Chris Stapleton\n",
       "50  Driving Back There in My Mind             Miranda Lambert\n",
       "59                          Gypsy               Fleetwood Mac\n",
       "9                    Dream Weaver                 Gary Wright"
      ]
     },
     "execution_count": 40,
     "metadata": {},
     "output_type": "execute_result"
    }
   ],
   "source": [
    "recommend_song(song_title, song_artist)"
   ]
  },
  {
   "cell_type": "code",
   "execution_count": 89,
   "id": "b17e6198",
   "metadata": {},
   "outputs": [],
   "source": [
    "def get_song_features(song_title, song_artist):\n",
    "    client_credentials_manager = SpotifyClientCredentials(client_id=\"YOUR_CLIENT_ID\", client_secret=\"YOUR_CLIENT_SECRET\")\n",
    "    sp = spotipy.Spotify(client_credentials_manager=client_credentials_manager)\n",
    "    \n",
    "    # Search for the track\n",
    "    results = sp.search(q=f'track:{song_title} artist:{song_artist}', type='track', limit=1)\n",
    "    if not results['tracks']['items']:\n",
    "        return None  # No track found\n",
    "    \n",
    "    track_id = results['tracks']['items'][0]['id']\n",
    "\n",
    "    # Retrieve audio features\n",
    "    features = sp.audio_features(track_id)[0]\n",
    "\n",
    "    # Convert to a format suitable for the scaler and model (excluding non-numeric features)\n",
    "    feature_values = [features[key] for key in feature_names]\n",
    "#     print(feature_values)\n",
    "    return [feature_values]"
   ]
  },
  {
   "cell_type": "code",
   "execution_count": 103,
   "id": "d576b630",
   "metadata": {},
   "outputs": [],
   "source": [
    "def retrieve_scale_predict(song_title, song_artist):\n",
    "    scaled_features = scaler.transform(get_song_features(song_title, song_artist))\n",
    "    predicted_cluster = model.predict(scaled_features)[0]\n",
    "    sample10 = clustered_tracks[clustered_tracks['cluster']==predicted_cluster].sample(10)\n",
    "    print(f'predicted_cluster: {predicted_cluster}')\n",
    "    return sample10[['title','artists','uri']]"
   ]
  },
  {
   "cell_type": "code",
   "execution_count": 49,
   "id": "e44f942a",
   "metadata": {},
   "outputs": [
    {
     "name": "stdout",
     "output_type": "stream",
     "text": [
      "Enter song title: Holiday Nostalgia\n"
     ]
    }
   ],
   "source": [
    "song_title_2 = input(\"Enter song title: \")"
   ]
  },
  {
   "cell_type": "code",
   "execution_count": 50,
   "id": "4bde8185",
   "metadata": {},
   "outputs": [
    {
     "name": "stdout",
     "output_type": "stream",
     "text": [
      "Enter song artist: Brunette\n"
     ]
    }
   ],
   "source": [
    "song_artist_2 = input(\"Enter song artist: \")"
   ]
  },
  {
   "cell_type": "code",
   "execution_count": 99,
   "id": "eea15e12",
   "metadata": {},
   "outputs": [
    {
     "name": "stdout",
     "output_type": "stream",
     "text": [
      "Song not in top songs. Fetching recommendations from clusters...\n"
     ]
    },
    {
     "name": "stderr",
     "output_type": "stream",
     "text": [
      "/Users/lilitdavidyan/anaconda3/lib/python3.10/site-packages/sklearn/base.py:420: UserWarning: X does not have valid feature names, but StandardScaler was fitted with feature names\n",
      "  warnings.warn(\n"
     ]
    },
    {
     "data": {
      "text/html": [
       "<div>\n",
       "<style scoped>\n",
       "    .dataframe tbody tr th:only-of-type {\n",
       "        vertical-align: middle;\n",
       "    }\n",
       "\n",
       "    .dataframe tbody tr th {\n",
       "        vertical-align: top;\n",
       "    }\n",
       "\n",
       "    .dataframe thead th {\n",
       "        text-align: right;\n",
       "    }\n",
       "</style>\n",
       "<table border=\"1\" class=\"dataframe\">\n",
       "  <thead>\n",
       "    <tr style=\"text-align: right;\">\n",
       "      <th></th>\n",
       "      <th>title</th>\n",
       "      <th>artists</th>\n",
       "      <th>uri</th>\n",
       "    </tr>\n",
       "  </thead>\n",
       "  <tbody>\n",
       "    <tr>\n",
       "      <th>69783</th>\n",
       "      <td>Mama Said</td>\n",
       "      <td>Metallica</td>\n",
       "      <td>spotify:track:4ePx4Js87KSIVMLL4RD7vX</td>\n",
       "    </tr>\n",
       "    <tr>\n",
       "      <th>78180</th>\n",
       "      <td>Vampiresa</td>\n",
       "      <td>Los Tigrillos</td>\n",
       "      <td>spotify:track:26uwjXS3gdxAIceTXWrXAO</td>\n",
       "    </tr>\n",
       "    <tr>\n",
       "      <th>21871</th>\n",
       "      <td>Seven Screws</td>\n",
       "      <td>Einstürzende Neubauten</td>\n",
       "      <td>spotify:track:4kPEY7J2BqiLZIZ3JIIeMz</td>\n",
       "    </tr>\n",
       "    <tr>\n",
       "      <th>11811</th>\n",
       "      <td>It's Love</td>\n",
       "      <td>Jill Scott</td>\n",
       "      <td>spotify:track:2U7X7mPD4wSp0capCGfpmM</td>\n",
       "    </tr>\n",
       "    <tr>\n",
       "      <th>13828</th>\n",
       "      <td>너 때문에 미쳐</td>\n",
       "      <td>T-ARA</td>\n",
       "      <td>spotify:track:5vCXnSlbAEkuJ3w2O0ALan</td>\n",
       "    </tr>\n",
       "    <tr>\n",
       "      <th>74600</th>\n",
       "      <td>Love at First Sight</td>\n",
       "      <td>Kylie Minogue</td>\n",
       "      <td>spotify:track:6ua8mbyHXTHpAmGyGpFAS2</td>\n",
       "    </tr>\n",
       "    <tr>\n",
       "      <th>52013</th>\n",
       "      <td>Sandman</td>\n",
       "      <td>America, George Martin</td>\n",
       "      <td>spotify:track:5DSQr9VZlvL2wzIAU95w2m</td>\n",
       "    </tr>\n",
       "    <tr>\n",
       "      <th>40746</th>\n",
       "      <td>Take Five</td>\n",
       "      <td>Dave Brubeck</td>\n",
       "      <td>spotify:track:5UbLKRX1qVROlwDFOooEvG</td>\n",
       "    </tr>\n",
       "    <tr>\n",
       "      <th>94863</th>\n",
       "      <td>SHAKE SUMN (with Sexyy Red) - REMIX</td>\n",
       "      <td>DaBaby, Sexyy Red</td>\n",
       "      <td>spotify:track:3IxGpAFxBAAfCQ6dv6sBiw</td>\n",
       "    </tr>\n",
       "    <tr>\n",
       "      <th>17529</th>\n",
       "      <td>PA PA PA</td>\n",
       "      <td>Matt Paris, Cornetto, IAmChino</td>\n",
       "      <td>spotify:track:5wuub0qkR7iGjOLkZe4Uod</td>\n",
       "    </tr>\n",
       "  </tbody>\n",
       "</table>\n",
       "</div>"
      ],
      "text/plain": [
       "                                     title                         artists  \\\n",
       "69783                            Mama Said                       Metallica   \n",
       "78180                            Vampiresa                   Los Tigrillos   \n",
       "21871                         Seven Screws          Einstürzende Neubauten   \n",
       "11811                            It's Love                      Jill Scott   \n",
       "13828                             너 때문에 미쳐                           T-ARA   \n",
       "74600                  Love at First Sight                   Kylie Minogue   \n",
       "52013                              Sandman          America, George Martin   \n",
       "40746                            Take Five                    Dave Brubeck   \n",
       "94863  SHAKE SUMN (with Sexyy Red) - REMIX               DaBaby, Sexyy Red   \n",
       "17529                             PA PA PA  Matt Paris, Cornetto, IAmChino   \n",
       "\n",
       "                                        uri  \n",
       "69783  spotify:track:4ePx4Js87KSIVMLL4RD7vX  \n",
       "78180  spotify:track:26uwjXS3gdxAIceTXWrXAO  \n",
       "21871  spotify:track:4kPEY7J2BqiLZIZ3JIIeMz  \n",
       "11811  spotify:track:2U7X7mPD4wSp0capCGfpmM  \n",
       "13828  spotify:track:5vCXnSlbAEkuJ3w2O0ALan  \n",
       "74600  spotify:track:6ua8mbyHXTHpAmGyGpFAS2  \n",
       "52013  spotify:track:5DSQr9VZlvL2wzIAU95w2m  \n",
       "40746  spotify:track:5UbLKRX1qVROlwDFOooEvG  \n",
       "94863  spotify:track:3IxGpAFxBAAfCQ6dv6sBiw  \n",
       "17529  spotify:track:5wuub0qkR7iGjOLkZe4Uod  "
      ]
     },
     "execution_count": 99,
     "metadata": {},
     "output_type": "execute_result"
    }
   ],
   "source": [
    "recommend_song(song_title_2, song_artist_2)"
   ]
  },
  {
   "cell_type": "code",
   "execution_count": 100,
   "id": "aa5bddb1",
   "metadata": {},
   "outputs": [
    {
     "name": "stdout",
     "output_type": "stream",
     "text": [
      "Enter song title: Vampiresa\n"
     ]
    }
   ],
   "source": [
    "song_title_3 = input(\"Enter song title: \")"
   ]
  },
  {
   "cell_type": "code",
   "execution_count": 101,
   "id": "ffb2a96a",
   "metadata": {},
   "outputs": [
    {
     "name": "stdout",
     "output_type": "stream",
     "text": [
      "Enter song artist: Los Tigrillos\n"
     ]
    }
   ],
   "source": [
    "song_artist_3 = input(\"Enter song artist: \")"
   ]
  },
  {
   "cell_type": "code",
   "execution_count": 104,
   "id": "39f6a5c8",
   "metadata": {},
   "outputs": [
    {
     "name": "stdout",
     "output_type": "stream",
     "text": [
      "Song not in top songs. Fetching recommendations from clusters...\n",
      "predicted_cluster: 0\n"
     ]
    },
    {
     "name": "stderr",
     "output_type": "stream",
     "text": [
      "/Users/lilitdavidyan/anaconda3/lib/python3.10/site-packages/sklearn/base.py:420: UserWarning: X does not have valid feature names, but StandardScaler was fitted with feature names\n",
      "  warnings.warn(\n"
     ]
    },
    {
     "data": {
      "text/html": [
       "<div>\n",
       "<style scoped>\n",
       "    .dataframe tbody tr th:only-of-type {\n",
       "        vertical-align: middle;\n",
       "    }\n",
       "\n",
       "    .dataframe tbody tr th {\n",
       "        vertical-align: top;\n",
       "    }\n",
       "\n",
       "    .dataframe thead th {\n",
       "        text-align: right;\n",
       "    }\n",
       "</style>\n",
       "<table border=\"1\" class=\"dataframe\">\n",
       "  <thead>\n",
       "    <tr style=\"text-align: right;\">\n",
       "      <th></th>\n",
       "      <th>title</th>\n",
       "      <th>artists</th>\n",
       "      <th>uri</th>\n",
       "    </tr>\n",
       "  </thead>\n",
       "  <tbody>\n",
       "    <tr>\n",
       "      <th>43843</th>\n",
       "      <td>Bebete Vãobora</td>\n",
       "      <td>Jorge Ben Jor</td>\n",
       "      <td>spotify:track:3vST7tho4iT90949PEtM7i</td>\n",
       "    </tr>\n",
       "    <tr>\n",
       "      <th>8402</th>\n",
       "      <td>Algodón</td>\n",
       "      <td>Lasso</td>\n",
       "      <td>spotify:track:4h7c7tqYjCBdWz8SPZh3bw</td>\n",
       "    </tr>\n",
       "    <tr>\n",
       "      <th>20884</th>\n",
       "      <td>Save Me - Disco Mix</td>\n",
       "      <td>Marvin &amp; Guy, Hard Ton</td>\n",
       "      <td>spotify:track:6IDonbKy642ltu7P5qimlM</td>\n",
       "    </tr>\n",
       "    <tr>\n",
       "      <th>23026</th>\n",
       "      <td>KAMASHA - كماشه (feat. Wezza Montaser)</td>\n",
       "      <td>Mahdy Madness, Wezza Montaser</td>\n",
       "      <td>spotify:track:0TRvIDRqRemga0vsrSaiwf</td>\n",
       "    </tr>\n",
       "    <tr>\n",
       "      <th>81524</th>\n",
       "      <td>Ratfinks, Suicide Tanks And Cannibal Girls</td>\n",
       "      <td>White Zombie</td>\n",
       "      <td>spotify:track:6PDBcqHNIg5cOojcCkhxYM</td>\n",
       "    </tr>\n",
       "    <tr>\n",
       "      <th>49884</th>\n",
       "      <td>Take Me in Your Arms (Rock Me a Little While)</td>\n",
       "      <td>The Doobie Brothers</td>\n",
       "      <td>spotify:track:5SUECwnqVcLWN32o1BNpQn</td>\n",
       "    </tr>\n",
       "    <tr>\n",
       "      <th>74372</th>\n",
       "      <td>U Don't Know</td>\n",
       "      <td>JAY-Z</td>\n",
       "      <td>spotify:track:4O7oKy8YADaBrbehcPl0kE</td>\n",
       "    </tr>\n",
       "    <tr>\n",
       "      <th>7498</th>\n",
       "      <td>Moonlight Rendezvous</td>\n",
       "      <td>Beast In Black</td>\n",
       "      <td>spotify:track:6P5Ma1HFYDsgOpLaGu6Jkz</td>\n",
       "    </tr>\n",
       "    <tr>\n",
       "      <th>18257</th>\n",
       "      <td>Daydreaming</td>\n",
       "      <td>Milky Chance, Tash Sultana</td>\n",
       "      <td>spotify:track:3v5OftOHxaVpaaJ8NArHos</td>\n",
       "    </tr>\n",
       "    <tr>\n",
       "      <th>2728</th>\n",
       "      <td>The Way I Do</td>\n",
       "      <td>July 7</td>\n",
       "      <td>spotify:track:4apnPdCj3uDuqMjGpqQcuc</td>\n",
       "    </tr>\n",
       "  </tbody>\n",
       "</table>\n",
       "</div>"
      ],
      "text/plain": [
       "                                               title  \\\n",
       "43843                                 Bebete Vãobora   \n",
       "8402                                         Algodón   \n",
       "20884                            Save Me - Disco Mix   \n",
       "23026         KAMASHA - كماشه (feat. Wezza Montaser)   \n",
       "81524     Ratfinks, Suicide Tanks And Cannibal Girls   \n",
       "49884  Take Me in Your Arms (Rock Me a Little While)   \n",
       "74372                                   U Don't Know   \n",
       "7498                            Moonlight Rendezvous   \n",
       "18257                                    Daydreaming   \n",
       "2728                                    The Way I Do   \n",
       "\n",
       "                             artists                                   uri  \n",
       "43843                  Jorge Ben Jor  spotify:track:3vST7tho4iT90949PEtM7i  \n",
       "8402                           Lasso  spotify:track:4h7c7tqYjCBdWz8SPZh3bw  \n",
       "20884         Marvin & Guy, Hard Ton  spotify:track:6IDonbKy642ltu7P5qimlM  \n",
       "23026  Mahdy Madness, Wezza Montaser  spotify:track:0TRvIDRqRemga0vsrSaiwf  \n",
       "81524                   White Zombie  spotify:track:6PDBcqHNIg5cOojcCkhxYM  \n",
       "49884            The Doobie Brothers  spotify:track:5SUECwnqVcLWN32o1BNpQn  \n",
       "74372                          JAY-Z  spotify:track:4O7oKy8YADaBrbehcPl0kE  \n",
       "7498                  Beast In Black  spotify:track:6P5Ma1HFYDsgOpLaGu6Jkz  \n",
       "18257     Milky Chance, Tash Sultana  spotify:track:3v5OftOHxaVpaaJ8NArHos  \n",
       "2728                          July 7  spotify:track:4apnPdCj3uDuqMjGpqQcuc  "
      ]
     },
     "execution_count": 104,
     "metadata": {},
     "output_type": "execute_result"
    }
   ],
   "source": [
    "recommend_song(song_title_3, song_artist_3)"
   ]
  },
  {
   "cell_type": "code",
   "execution_count": 122,
   "id": "bab0805f",
   "metadata": {},
   "outputs": [
    {
     "name": "stdout",
     "output_type": "stream",
     "text": [
      "Enter song title: Something in the Orange\n"
     ]
    }
   ],
   "source": [
    "song_title_4 = input(\"Enter song title: \")"
   ]
  },
  {
   "cell_type": "code",
   "execution_count": 123,
   "id": "e9ad4a8b",
   "metadata": {},
   "outputs": [
    {
     "name": "stdout",
     "output_type": "stream",
     "text": [
      "Enter song artist: Zach Bryan\n"
     ]
    }
   ],
   "source": [
    "song_artist_4 = input(\"Enter song artist: \")"
   ]
  },
  {
   "cell_type": "code",
   "execution_count": 124,
   "id": "8ab381c8",
   "metadata": {},
   "outputs": [
    {
     "name": "stdout",
     "output_type": "stream",
     "text": [
      "Song not in top songs. Fetching recommendations from clusters...\n",
      "predicted_cluster: 9\n"
     ]
    },
    {
     "name": "stderr",
     "output_type": "stream",
     "text": [
      "/Users/lilitdavidyan/anaconda3/lib/python3.10/site-packages/sklearn/base.py:420: UserWarning: X does not have valid feature names, but StandardScaler was fitted with feature names\n",
      "  warnings.warn(\n"
     ]
    },
    {
     "data": {
      "text/html": [
       "<div>\n",
       "<style scoped>\n",
       "    .dataframe tbody tr th:only-of-type {\n",
       "        vertical-align: middle;\n",
       "    }\n",
       "\n",
       "    .dataframe tbody tr th {\n",
       "        vertical-align: top;\n",
       "    }\n",
       "\n",
       "    .dataframe thead th {\n",
       "        text-align: right;\n",
       "    }\n",
       "</style>\n",
       "<table border=\"1\" class=\"dataframe\">\n",
       "  <thead>\n",
       "    <tr style=\"text-align: right;\">\n",
       "      <th></th>\n",
       "      <th>title</th>\n",
       "      <th>artists</th>\n",
       "      <th>uri</th>\n",
       "    </tr>\n",
       "  </thead>\n",
       "  <tbody>\n",
       "    <tr>\n",
       "      <th>33558</th>\n",
       "      <td>Riders In the Sky</td>\n",
       "      <td>Stan Jones</td>\n",
       "      <td>spotify:track:3cwVUCWSav17exXcJGF1uB</td>\n",
       "    </tr>\n",
       "    <tr>\n",
       "      <th>88965</th>\n",
       "      <td>You Are My Sunshine</td>\n",
       "      <td>Nursery Rhymes 123</td>\n",
       "      <td>spotify:track:0tIwgdXaGSp9rYvjVNAoP7</td>\n",
       "    </tr>\n",
       "    <tr>\n",
       "      <th>53368</th>\n",
       "      <td>September Morn</td>\n",
       "      <td>Neil Diamond</td>\n",
       "      <td>spotify:track:2CXkN6UAb3jAFwz4VbsDq0</td>\n",
       "    </tr>\n",
       "    <tr>\n",
       "      <th>21703</th>\n",
       "      <td>Das ist alles von der Kunstfreiheit gedeckt</td>\n",
       "      <td>Danger Dan</td>\n",
       "      <td>spotify:track:4ioQKdmkdBTkqjhfHeu4YU</td>\n",
       "    </tr>\n",
       "    <tr>\n",
       "      <th>26021</th>\n",
       "      <td>Night and Day</td>\n",
       "      <td>Joséphine Baker</td>\n",
       "      <td>spotify:track:0j6jt4SSfcKurGXy2sGF1F</td>\n",
       "    </tr>\n",
       "    <tr>\n",
       "      <th>23144</th>\n",
       "      <td>Wildfire</td>\n",
       "      <td>Watchhouse</td>\n",
       "      <td>spotify:track:0EIS2zaB3aQGtKOvzrodOU</td>\n",
       "    </tr>\n",
       "    <tr>\n",
       "      <th>90702</th>\n",
       "      <td>Delicate - Recorded at The Tracking Room Nashv...</td>\n",
       "      <td>Taylor Swift</td>\n",
       "      <td>spotify:track:1Fj0T1XKuhRu7EZzJ7NJIK</td>\n",
       "    </tr>\n",
       "    <tr>\n",
       "      <th>36767</th>\n",
       "      <td>It's Over</td>\n",
       "      <td>Roy Orbison</td>\n",
       "      <td>spotify:track:3HZMEIZY9Z6GdhPaG5bAK2</td>\n",
       "    </tr>\n",
       "    <tr>\n",
       "      <th>33067</th>\n",
       "      <td>Marian The Librarian</td>\n",
       "      <td>Robert Preston</td>\n",
       "      <td>spotify:track:0SsoCpGsSz32oyQjsvDZFu</td>\n",
       "    </tr>\n",
       "    <tr>\n",
       "      <th>40090</th>\n",
       "      <td>Keep Your Arms Around Me</td>\n",
       "      <td>Otis Redding</td>\n",
       "      <td>spotify:track:0JoqdwiF0FKwK1XubPjb85</td>\n",
       "    </tr>\n",
       "  </tbody>\n",
       "</table>\n",
       "</div>"
      ],
      "text/plain": [
       "                                                   title             artists  \\\n",
       "33558                                  Riders In the Sky          Stan Jones   \n",
       "88965                                You Are My Sunshine  Nursery Rhymes 123   \n",
       "53368                                     September Morn        Neil Diamond   \n",
       "21703        Das ist alles von der Kunstfreiheit gedeckt          Danger Dan   \n",
       "26021                                      Night and Day     Joséphine Baker   \n",
       "23144                                           Wildfire          Watchhouse   \n",
       "90702  Delicate - Recorded at The Tracking Room Nashv...        Taylor Swift   \n",
       "36767                                          It's Over         Roy Orbison   \n",
       "33067                               Marian The Librarian      Robert Preston   \n",
       "40090                           Keep Your Arms Around Me        Otis Redding   \n",
       "\n",
       "                                        uri  \n",
       "33558  spotify:track:3cwVUCWSav17exXcJGF1uB  \n",
       "88965  spotify:track:0tIwgdXaGSp9rYvjVNAoP7  \n",
       "53368  spotify:track:2CXkN6UAb3jAFwz4VbsDq0  \n",
       "21703  spotify:track:4ioQKdmkdBTkqjhfHeu4YU  \n",
       "26021  spotify:track:0j6jt4SSfcKurGXy2sGF1F  \n",
       "23144  spotify:track:0EIS2zaB3aQGtKOvzrodOU  \n",
       "90702  spotify:track:1Fj0T1XKuhRu7EZzJ7NJIK  \n",
       "36767  spotify:track:3HZMEIZY9Z6GdhPaG5bAK2  \n",
       "33067  spotify:track:0SsoCpGsSz32oyQjsvDZFu  \n",
       "40090  spotify:track:0JoqdwiF0FKwK1XubPjb85  "
      ]
     },
     "execution_count": 124,
     "metadata": {},
     "output_type": "execute_result"
    }
   ],
   "source": [
    "recommend_song(song_title_4, song_artist_4)"
   ]
  },
  {
   "cell_type": "code",
   "execution_count": null,
   "id": "a6df034e",
   "metadata": {},
   "outputs": [],
   "source": []
  }
 ],
 "metadata": {
  "kernelspec": {
   "display_name": "Python 3 (ipykernel)",
   "language": "python",
   "name": "python3"
  },
  "language_info": {
   "codemirror_mode": {
    "name": "ipython",
    "version": 3
   },
   "file_extension": ".py",
   "mimetype": "text/x-python",
   "name": "python",
   "nbconvert_exporter": "python",
   "pygments_lexer": "ipython3",
   "version": "3.10.9"
  }
 },
 "nbformat": 4,
 "nbformat_minor": 5
}
